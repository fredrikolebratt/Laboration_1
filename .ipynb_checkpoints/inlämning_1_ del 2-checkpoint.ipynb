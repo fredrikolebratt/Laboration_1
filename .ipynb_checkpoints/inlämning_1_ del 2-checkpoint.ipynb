{
  "nbformat": 4,
  "nbformat_minor": 0,
  "metadata": {
    "kernelspec": {
      "display_name": "Python 3",
      "language": "python",
      "name": "python3"
    },
    "language_info": {
      "codemirror_mode": {
        "name": "ipython",
        "version": 3
      },
      "file_extension": ".py",
      "mimetype": "text/x-python",
      "name": "python",
      "nbconvert_exporter": "python",
      "pygments_lexer": "ipython3",
      "version": "3.7.4"
    },
    "latex_envs": {
      "LaTeX_envs_menu_present": true,
      "autoclose": false,
      "autocomplete": true,
      "bibliofile": "biblio.bib",
      "cite_by": "apalike",
      "current_citInitial": 1,
      "eqLabelWithNumbers": true,
      "eqNumInitial": 1,
      "hotkeys": {
        "equation": "Ctrl-E",
        "itemize": "Ctrl-I"
      },
      "labels_anchors": false,
      "latex_user_defs": false,
      "report_style_numbering": false,
      "user_envs_cfg": false
    },
    "nbTranslate": {
      "displayLangs": [],
      "hotkey": "alt-t",
      "langInMainMenu": true,
      "sourceLang": "sv",
      "targetLang": "en",
      "useGoogleTranslate": true
    },
    "colab": {
      "name": "inlämning_1_ del 2-checkpoint.ipynb",
      "provenance": []
    }
  },
  "cells": [
    {
      "cell_type": "markdown",
      "metadata": {
        "id": "HKsUjOOYa0nm"
      },
      "source": [
        "# Laboration 2 - inlämning del 2 Analys av tweets från bokmässan\n",
        "\n",
        "## Attribution David Johnsson, Uppsala University"
      ]
    },
    {
      "cell_type": "markdown",
      "metadata": {
        "id": "dEFdILD6a0np"
      },
      "source": [
        "Starta med att ladda in följande moduler och sätt upp visualiseringsmiljön för matplotlib\n",
        "\n",
        "1. `pandas` \n",
        "2. `textmining` \n",
        "Funktioner för statistisk textmining, fokuserad på bag-of-words model (som ni inte behöver sätta er in för denna kurs.f För den nyfikne eller vetgirige finns enkla förklaringar exempelvis [här](https://www.analyticsvidhya.com/blog/2020/02/quick-introduction-bag-of-words-bow-tf-idf/) eller [här](https://www.geeksforgeeks.org/bag-of-words-bow-model-in-nlp/), en enkel tutorial finns också [här](https://machinelearningmastery.com/gentle-introduction-bag-words-model/)) \n",
        "3. `wordcloud` - En visualiseringsmodul för att skapa ordmoln, vilket vi gör i denna laboration.\n",
        "4. `matplotlib` \n",
        "5. `sklearn` -  Scikit-learn,ett pythonbibliotek för maskininlärningsalgoritmer, den kommer vi använda mycket i både laboration 3 och 4."
      ]
    },
    {
      "cell_type": "code",
      "metadata": {
        "id": "D1GiMFZha0np"
      },
      "source": [
        "pip install nltk "
      ],
      "execution_count": null,
      "outputs": []
    },
    {
      "cell_type": "code",
      "metadata": {
        "id": "yOpvdSfqa0nq"
      },
      "source": [
        "# Kör denna cell för att ladda in biblioteken och sätta upp vår miljö\n",
        "import pandas as pd\n",
        "import nltk as tm\n",
        "from nltk.corpus import stopwords\n",
        "import wordcloud\n",
        "import matplotlib\n",
        "from sklearn.feature_extraction.text import CountVectorizer\n",
        "# Sätt upp visualiseringen\n",
        "%matplotlib inline\n",
        "matplotlib.pyplot.rcParams['figure.figsize'] = [10, 6]"
      ],
      "execution_count": null,
      "outputs": []
    },
    {
      "cell_type": "code",
      "metadata": {
        "id": "d-C2riC_a0nr"
      },
      "source": [
        "tm.download('stopwords')"
      ],
      "execution_count": null,
      "outputs": []
    },
    {
      "cell_type": "code",
      "metadata": {
        "id": "Zg7ECRmma0nr"
      },
      "source": [
        "stopWords = set(stopwords.words('swedish'))\n",
        "stopWords"
      ],
      "execution_count": null,
      "outputs": []
    },
    {
      "cell_type": "markdown",
      "metadata": {
        "lang": "en",
        "id": "KNPjnXqaa0nr"
      },
      "source": [
        "## Analys av Twitterdata från bokmässan\n",
        "\n",
        "Ni har blivit inhyrda som konsulter för en bokpublicist som vill att du ska ta reda på vilka teman och böcker som har fått mest uppmärksamhet på bokmässan i Göteborg 2016. \n",
        "\n",
        "Er uppgift är att via Twitterdata undersöka vilka ämnen som fått speciellt mycket uppmärksamhet för och under bokmässan och presentera ett förslag till företaget du arbetar med vad som är lämpliga debattämnen. \n",
        "\n",
        "Fokus här är alltså på att förstå data, vilket är en viktigt del av pre-processering inför mer avacerad dataanalys. \n",
        "\n",
        "**F1.** Vad för data är distinkt för twitter och vilken typ av pre-processing tror ni kommer behövas på den typen av data? "
      ]
    },
    {
      "cell_type": "markdown",
      "metadata": {
        "id": "ExW3Vh4Ud13R"
      },
      "source": [
        "Tweets, Retweets, likes, and Direct Messages är distinkt data för twitter och vi tror att data wrangling kommer att behövas för att göra datan mer anspassad för att analyseras."
      ]
    },
    {
      "cell_type": "markdown",
      "metadata": {
        "lang": "en",
        "id": "gOULcxjoa0ns"
      },
      "source": [
        "## Data processing\n",
        "\n",
        "Som alltid behöver vårt data städas, i detta fall är fokus att sortera bort data som antingen inte går att analysera eller inte är intressant från den råtextdata vi fått från Twitter. Den data som givits samlades in från Twitter från maj till september 2016.\n",
        "\n",
        "Er datafil finns i mappen data i laborationsrepositoriet och heter `twitter_book_fair_data.tsv`."
      ]
    },
    {
      "cell_type": "markdown",
      "metadata": {
        "lang": "en",
        "id": "_Ro_zvP3a0nt"
      },
      "source": [
        "### Ladda data\n",
        "\n",
        "En `.tsv` fil betyder att det är en tab-separerad fil med tabelldata (jämfört med ; separerad som vi använt tidigare)\n",
        "\n",
        "**F2** Starta arbetet med att läsa in filen med read_csv() med följande parametrar:  encoding=\"utf-8\", sep=\"\\t\" och spara i en dataframe"
      ]
    },
    {
      "cell_type": "code",
      "metadata": {
        "colab": {
          "base_uri": "https://localhost:8080/"
        },
        "id": "kMB5wkldi7h1",
        "outputId": "121f412d-a2d2-4cd5-f693-4bd7b0285e27"
      },
      "source": [
        "import pandas as pd\n",
        "url = 'https://raw.githubusercontent.com/2IS239-Data-Analytics/laboration_1-laborationsgrupp-5/master/Data/twitter_book_fair_data.tsv?token=AVONS6CFLO7TGFGBT62J7T3BHYK7E'\n",
        "\n",
        "df = pd.read_csv(url, encoding = 'UTF-8', sep=\"\\t\")\n",
        "print(df)"
      ],
      "execution_count": 5,
      "outputs": [
        {
          "output_type": "stream",
          "name": "stdout",
          "text": [
            "                                                   text  ...          time\n",
            "0     rt @amiethekid: kvaellens avsnitt av raseriet ...  ...  1.474960e+09\n",
            "1     maranatafoersamlingens monter paa bokmaessan v...  ...  1.474958e+09\n",
            "2     idrotten blev en trygg zon under en jobbig ton...  ...  1.474958e+09\n",
            "3     tillbakablick paa #bokmaessan #goeteborg del 1...  ...  1.474957e+09\n",
            "4     rt @flamman_: aha, vilken tid aer demon? hm, d...  ...  1.474957e+09\n",
            "...                                                 ...  ...           ...\n",
            "9995  rt @mxcartoons: nya tider kommenterar bokmaess...  ...  1.471694e+09\n",
            "9996  rt @viskot: apropaa #bokmaessan och det haer m...  ...  1.471694e+09\n",
            "9997  rt @charlieafnord: hej @bokmassangbg. kommer n...  ...  1.471694e+09\n",
            "9998  rt @mxcartoons: nya tider kommenterar bokmaess...  ...  1.471694e+09\n",
            "9999  rt @dolf371: tystnad aer yttrandefrihet – #bok...  ...  1.471694e+09\n",
            "\n",
            "[10000 rows x 13 columns]\n"
          ]
        }
      ]
    },
    {
      "cell_type": "markdown",
      "metadata": {
        "lang": "en",
        "id": "LwcHaR7Na0nt"
      },
      "source": [
        "**F3** Inspektera den dataframe som skapats med lämpliga funktioner. Ta reda på följande:\n",
        "\n",
        "Hur ser den ut?\n",
        "Antal kolumner och rader?\n",
        "Datatyper?\n",
        "\n",
        "Glöm inte bort att när du utför operationer på en datafram så sparas ingenting om du inte skapar en variabel som du lagrar dina ändringar i! (alternativt skriver över den dataframe du har genom att sätta parametern inplace = True (default är False)."
      ]
    },
    {
      "cell_type": "code",
      "metadata": {
        "colab": {
          "base_uri": "https://localhost:8080/"
        },
        "id": "Jj7dYdteCj58",
        "outputId": "840819e3-d3e9-4466-ad8a-6066d79f5353"
      },
      "source": [
        "\n",
        "df.info()\n",
        "\n"
      ],
      "execution_count": 8,
      "outputs": [
        {
          "output_type": "stream",
          "name": "stdout",
          "text": [
            "<class 'pandas.core.frame.DataFrame'>\n",
            "RangeIndex: 10000 entries, 0 to 9999\n",
            "Data columns (total 13 columns):\n",
            " #   Column             Non-Null Count  Dtype  \n",
            "---  ------             --------------  -----  \n",
            " 0   text               10000 non-null  object \n",
            " 1   to_user_id         428 non-null    object \n",
            " 2   from_user          9996 non-null   object \n",
            " 3   id                 10000 non-null  int64  \n",
            " 4   from_user_id       10000 non-null  int64  \n",
            " 5   iso_language_code  10000 non-null  object \n",
            " 6   source             10000 non-null  object \n",
            " 7   profile_image_url  9589 non-null   object \n",
            " 8   geo_type           115 non-null    object \n",
            " 9   geo_coordinates_0  9996 non-null   float64\n",
            " 10  geo_coordinates_1  9996 non-null   float64\n",
            " 11  created_at         9996 non-null   object \n",
            " 12  time               9996 non-null   float64\n",
            "dtypes: float64(3), int64(2), object(8)\n",
            "memory usage: 1015.8+ KB\n"
          ]
        }
      ]
    },
    {
      "cell_type": "markdown",
      "metadata": {
        "id": "kF0k5S8Aa0nt"
      },
      "source": [
        "**F4** Finns det nullvärden i vårt dataset? Varför/varför inte?"
      ]
    },
    {
      "cell_type": "code",
      "metadata": {
        "id": "eygG85CVh-Dc",
        "outputId": "fdeffb5e-6088-47ba-dc4d-70e94a13cae9",
        "colab": {
          "base_uri": "https://localhost:8080/"
        }
      },
      "source": [
        "null = df.isnull().sum()\n",
        "print(null)"
      ],
      "execution_count": 14,
      "outputs": [
        {
          "output_type": "stream",
          "name": "stdout",
          "text": [
            "text                    0\n",
            "to_user_id           9572\n",
            "from_user               4\n",
            "id                      0\n",
            "from_user_id            0\n",
            "iso_language_code       0\n",
            "source                  0\n",
            "profile_image_url     411\n",
            "geo_type             9885\n",
            "geo_coordinates_0       4\n",
            "geo_coordinates_1       4\n",
            "created_at              4\n",
            "time                    4\n",
            "dtype: int64\n"
          ]
        }
      ]
    },
    {
      "cell_type": "markdown",
      "metadata": {
        "id": "XTwvuClwhzMx"
      },
      "source": [
        "Det finns nullvärden eftersom användare inte alltid vill dela all information som man kan lägga in.\n"
      ]
    },
    {
      "cell_type": "markdown",
      "metadata": {
        "id": "5g2MhHuGa0nu"
      },
      "source": [
        "**F5.** Hur många tweets i vårt dataset är nämnanden av andra användare (alltså när `@twittername` finns med i tweeten) \n",
        "\n",
        "*Hint: Det kan vara till hjälp att använda funktionen `info()`*"
      ]
    },
    {
      "cell_type": "code",
      "metadata": {
        "id": "HliPhV_JD45f",
        "colab": {
          "base_uri": "https://localhost:8080/"
        },
        "outputId": "c468f1c0-2dce-4aef-a07a-7814721b27f4"
      },
      "source": [
        "df.info()"
      ],
      "execution_count": null,
      "outputs": [
        {
          "output_type": "stream",
          "name": "stdout",
          "text": [
            "<class 'pandas.core.frame.DataFrame'>\n",
            "RangeIndex: 10000 entries, 0 to 9999\n",
            "Data columns (total 13 columns):\n",
            " #   Column             Non-Null Count  Dtype  \n",
            "---  ------             --------------  -----  \n",
            " 0   text               10000 non-null  object \n",
            " 1   to_user_id         428 non-null    object \n",
            " 2   from_user          9996 non-null   object \n",
            " 3   id                 10000 non-null  int64  \n",
            " 4   from_user_id       10000 non-null  int64  \n",
            " 5   iso_language_code  10000 non-null  object \n",
            " 6   source             10000 non-null  object \n",
            " 7   profile_image_url  9589 non-null   object \n",
            " 8   geo_type           115 non-null    object \n",
            " 9   geo_coordinates_0  9996 non-null   float64\n",
            " 10  geo_coordinates_1  9996 non-null   float64\n",
            " 11  created_at         9996 non-null   object \n",
            " 12  time               9996 non-null   float64\n",
            "dtypes: float64(3), int64(2), object(8)\n",
            "memory usage: 1015.8+ KB\n"
          ]
        }
      ]
    },
    {
      "cell_type": "markdown",
      "metadata": {
        "lang": "en",
        "id": "dSCt2TcTa0nu"
      },
      "source": [
        "**F6.** En kolumn är speciellt intressant för vår **textanalys**, extrahera den från den dataframe vi lagrat all data i och skapa en variabel där du placerar denna data, döp variablen till `tweets_corpus`."
      ]
    },
    {
      "cell_type": "markdown",
      "metadata": {
        "lang": "en",
        "id": "t3CjSN3wa0nu"
      },
      "source": [
        "### Emojis\n",
        "\n",
        "På Twitter är det väldigt vanligt med emojis 👍 ✨ 🐫 🎉 🚀 🤘.\n",
        "\n",
        "Dessa kan innehålla mycket information som kan vara relevant för vår analys. Dock är det ofta svårt att analysera emojis med hjälp av vanliga verktug för NLP(Natural Language Processig). \n",
        "\n",
        "Vi behöver därför ta bort dessa ur vårt utvalda dataset som skapades i uppgiften ovan.\n",
        "\n",
        "Följande kod utför detta, ni behöver inte bry er om lambda just nu, men vi kommer gå igenom det lite senare i kursen. "
      ]
    },
    {
      "cell_type": "code",
      "metadata": {
        "scrolled": true,
        "id": "flwggZawa0nu"
      },
      "source": [
        "encode2ascii = lambda x: x.encode('ascii', errors='ignore').decode('utf-8')\n",
        "clean_tweets = tweets_corpus.apply(encode2ascii)\n",
        "clean_tweets"
      ],
      "execution_count": null,
      "outputs": []
    },
    {
      "cell_type": "markdown",
      "metadata": {
        "lang": "en",
        "id": "6OXwLlbra0nv"
      },
      "source": [
        "**F7.** Hur påverkas kvaliteten på vår analys potentiellt av att ta bort alla emojis? Förklara svaret."
      ]
    },
    {
      "cell_type": "markdown",
      "metadata": {
        "lang": "en",
        "id": "8oazelWva0nv"
      },
      "source": [
        "### Ta bort URLs\n",
        "Det är också vanligt att man på Twitter länkar till olika webbplatser med hjälp av URL:er, när man gör textanalys på twitterdata är det vanligt att delar av dessa URL:er dyker upp som \"mest frekventa ord\" vilket påverkar vår analys negativs. Dessa behöver därför också tas bort."
      ]
    },
    {
      "cell_type": "code",
      "metadata": {
        "id": "cz322Vk9a0nv"
      },
      "source": [
        "clean_tweets = clean_tweets.str.replace(r'http\\S+', '')\n",
        "clean_tweets"
      ],
      "execution_count": null,
      "outputs": []
    },
    {
      "cell_type": "markdown",
      "metadata": {
        "id": "Fbw1IsZ4a0nv"
      },
      "source": [
        "**F8.** Hur kan borttagandet av URL:er pvåerkar analysen och dess kvalitet, förklara svaret."
      ]
    },
    {
      "cell_type": "markdown",
      "metadata": {
        "lang": "en",
        "id": "5CEmA7sKa0nw"
      },
      "source": [
        "### Funktion för att hitta mest frekventa ord \n",
        "\n",
        "Ett sätt att förstå hur olika metoder för pre-processing påverkar ett dataset kan man räkna de mest förekommande orden efter varje operation som utförs. Eftersom vi kommer vilja utföra denna räkning många gånger under arbetet är de lämpligt att skapa en funktion för det som vi kan anropa flera gånger.\n",
        "\n",
        "#### Vad är en Term Document Matrix (TDM)?\n",
        "\n",
        "En TDM är en tabell där antalet unika ord räknas för varje dokument. För att göra detta på vårt Twitterdata är det lämpligt att skapa en TDM där varje tweet är en egen vektor där varje element består av de ord som finns i den tweeten. En tweet med tre unika ord blir alltså en vektor med tre element. \n",
        "\n",
        "Nedanstående kod skapar denna TDM i form av en funktion med namn `create_term_document_matrix()`:"
      ]
    },
    {
      "cell_type": "markdown",
      "metadata": {
        "id": "IEzwN6ICa0nw"
      },
      "source": [
        "**F9** Koden nedan är inte kommenterad, lägg in kommentarer som förklarar vad som sker i koden. (No hittar dokumentationen för CountVectorizer() [här](https://scikit-learn.org/stable/modules/generated/sklearn.feature_extraction.text.CountVectorizer.html) och en kort beskrivning med exempel [här](https://www.geeksforgeeks.org/using-countvectorizer-to-extracting-features-from-text/)"
      ]
    },
    {
      "cell_type": "code",
      "metadata": {
        "id": "qTvoyCija0nw"
      },
      "source": [
        "def create_term_document_matrix(corpus, min_df=1):\n",
        "    cvec = CountVectorizer(min_df=min_df, stop_words=stopWords)\n",
        "    tfmatrix = cvec.fit_transform(corpus)\n",
        "    return pd.DataFrame(data=tfmatrix.toarray(), columns=cvec.get_feature_names())"
      ],
      "execution_count": null,
      "outputs": []
    },
    {
      "cell_type": "markdown",
      "metadata": {
        "id": "91UNu7Kba0nw"
      },
      "source": [
        "**F10** Testa vår nya funktion genom att skapa en TDM endast för de tre första raderna i `clean_tweets` som kan sorteras ut med `.head(3)` funktionen. "
      ]
    },
    {
      "cell_type": "code",
      "metadata": {
        "id": "Ss6fsPMna0nw"
      },
      "source": [
        "#kod här..\n",
        "create_term_document_matrix( )"
      ],
      "execution_count": null,
      "outputs": []
    },
    {
      "cell_type": "markdown",
      "metadata": {
        "id": "C9AAF400a0nx"
      },
      "source": [
        "**F11.** Hur många kolumner skapades i TDM:n?"
      ]
    },
    {
      "cell_type": "markdown",
      "metadata": {
        "id": "fqPpep0ra0nx"
      },
      "source": [
        "För att hitta de mest frekvent förekommander orden i vår TDM behöver vi räkna ord. Det är också lämpligt med en visualisering över dessa vanligast förekommande ord. Även detta kommer vi behöva göra flera gånger och därför är det återigen lämpligt att definiera en funktion `plot_top_words()` som både räknar och plottar orden i ett stapeldiagram. \n",
        "\n",
        "**F12** I nedanstående cell är funktionen definierad, men koden är återigen inte kommenterad, skapa kommentarer (eller skriv i en markdowncell) som förklarar vad funktionen gör. \n"
      ]
    },
    {
      "cell_type": "code",
      "metadata": {
        "id": "kIqKozQoa0nx"
      },
      "source": [
        "def plot_top_words(tweets, num_word_instances, top_words):\n",
        "    tdm_df = create_term_document_matrix(tweets, min_df=2)\n",
        "    word_frequencies = tdm_df[[x for x in tdm_df.columns if len(x) > 1]].sum()\n",
        "    sorted_words = word_frequencies.sort_values(ascending=False)\n",
        "    top_sorted_words = sorted_words[:num_word_instances]\n",
        "    top_sorted_words[:top_words].plot.bar()\n",
        "    return top_sorted_words"
      ],
      "execution_count": null,
      "outputs": []
    },
    {
      "cell_type": "markdown",
      "metadata": {
        "id": "pqEM4EjOa0nx"
      },
      "source": [
        "Nu kan vi använda `plot_top_words()` funktionen för att räkna ut de mest förekommande orden i hela vårt corpus, viktigt att ha tålamod dock för det kan ta ett tag. Nedanstående kod utför beräkningen."
      ]
    },
    {
      "cell_type": "code",
      "metadata": {
        "id": "97N_g_C5a0nx"
      },
      "source": [
        "top_words = plot_top_words(clean_tweets, 50, 30)\n",
        "top_words"
      ],
      "execution_count": null,
      "outputs": []
    },
    {
      "cell_type": "markdown",
      "metadata": {
        "id": "0GbsJrwxa0nx"
      },
      "source": [
        "**F13** Hur många gånger måste ett ord finnas i corpuset för att finnas med i `top_words` så som den är skriven ovan?"
      ]
    },
    {
      "cell_type": "markdown",
      "metadata": {
        "id": "pA4t7KKKa0nx"
      },
      "source": [
        "**F14.** Hur många ord plottas i stapeldiagrammet? "
      ]
    },
    {
      "cell_type": "markdown",
      "metadata": {
        "lang": "en",
        "id": "QwTVFxdoa0nx"
      },
      "source": [
        "### Små bokstäver\n",
        "\n",
        "Nästa steg i pre-processingen av vårt dataset (vårt corpus) är att göra om alla bokstäver till små. \n",
        "\n",
        "**F15** \n",
        "\n",
        "a.Utför ändringen att alla stora bokstäver blir små bokstäver i `clean_tweets` och spara i en ny variabel kallad `tweets_lowered`\n",
        "\n",
        "b.Varför vill man göra det för vår analys?\n"
      ]
    },
    {
      "cell_type": "markdown",
      "metadata": {
        "id": "5LYK9K4aa0ny"
      },
      "source": [
        "**F16** Räkna ut en ny variabel med de mest förekommander (frekventa) orden, döp den till `top_words_lowered`"
      ]
    },
    {
      "cell_type": "code",
      "metadata": {
        "id": "sjqjyXUQa0ny",
        "outputId": "4606a229-b7ca-47e6-99cb-9dd14d069256"
      },
      "source": [
        "#Skriv klart denna kodcell för F1.16\n",
        "\n",
        "top_words_lowered = ...\n",
        "top_words_lowered"
      ],
      "execution_count": null,
      "outputs": [
        {
          "data": {
            "text/plain": [
              "Ellipsis"
            ]
          },
          "execution_count": 4,
          "metadata": {},
          "output_type": "execute_result"
        }
      ]
    },
    {
      "cell_type": "markdown",
      "metadata": {
        "id": "vomYC_wwa0ny"
      },
      "source": [
        "**F17.** Har något förändrats, vad? Förklara svaret."
      ]
    },
    {
      "cell_type": "markdown",
      "metadata": {
        "lang": "en",
        "id": "WmSnDxk-a0nz"
      },
      "source": [
        "För att underlätta att jämföra vad våra ansträngningar får för resultat kan det vara bra att enkelt kunna jämföra olika listor med top_words.\n",
        "\n",
        "**F18** Skapa en ny dataframe som har två kolumner, en med de 20 mest frekventa orden från`top_words` och en med de 20 mest frekventa orden från `top_word_lowered`. Döp kolumnerna till `Top tweeted clean`och  `Top tweeted lowered`. "
      ]
    },
    {
      "cell_type": "code",
      "metadata": {
        "id": "4AqW_x2Ua0nz"
      },
      "source": [
        "pd.DataFrame({\n",
        "    'Top tweeted clean': top_words[0:20].index,\n",
        "    'Top tweeted lowered': top_words_lowered[0:20].index\n",
        "})"
      ],
      "execution_count": null,
      "outputs": []
    },
    {
      "cell_type": "markdown",
      "metadata": {
        "lang": "en",
        "id": "1GLnjMeJa0nz"
      },
      "source": [
        "Ett annnat sätt att göra ungefär samma sak, fast lite mer automatiskt är nedanstående kod som också jämför de första 20 orden. Gör om den så att den istället för att jämföra de 20 mest frekventa orden, jämför de ord som är minst förekommande i de två listorna `top_words`och `top_words_lowered`.\n",
        "\n",
        "**F19** Vad returnerar nedanstående kodrad om de två listor som jämförs är identiska? Vad returneras om de inte är identiska?"
      ]
    },
    {
      "cell_type": "code",
      "metadata": {
        "id": "6RhRfMbQa0nz"
      },
      "source": [
        "set(top_words[0:20].index) - set(top_words_lowered[0:20].index)"
      ],
      "execution_count": null,
      "outputs": []
    },
    {
      "cell_type": "markdown",
      "metadata": {
        "id": "kaswky3Sa0nz"
      },
      "source": [
        "### Korta ord\n",
        "\n",
        "Korta ord har ofta inte någon egentlig betydelse, alltså behöver vi inte dessa ord. Typiska sådana ord kan vara ja, jo eller nej. Vi bestämmer oss för att alla ord som är kortare än 3 bokstäver inte innehar någon betydelse i vår analys och tar därmed bort dem. \n",
        "\n",
        "**F20** Ta bort alla ord med färre bokstäver än 3(HINT: [regular expressions](https://docs.python.org/3/howto/regex.html)), lägg den nya listan med ord (som inte innehåller ord med färre bokstäver än 3) i en variabel med namn `tweets_low_no_small`\n",
        "\n"
      ]
    },
    {
      "cell_type": "code",
      "metadata": {
        "id": "ogkv7hGra0nz"
      },
      "source": [
        "tweets_low_no_small = ...#din kod här"
      ],
      "execution_count": null,
      "outputs": []
    },
    {
      "cell_type": "code",
      "metadata": {
        "id": "Si8LAW4Ia0nz"
      },
      "source": [
        "#Skapar ny topplista utan korta ord\n",
        "top_words_low_no_small = plot_top_words(tweets_low_no_small, 50, 30)\n",
        "top_words_low_no_small"
      ],
      "execution_count": null,
      "outputs": []
    },
    {
      "cell_type": "markdown",
      "metadata": {
        "id": "d_mcMCUfa0n0"
      },
      "source": [
        "**F21.** Efter att korta ord tagits bort, hur många gånger måste ett ord förekomma i vårt corpus för att hamna i den nya listan enligt ovan? "
      ]
    },
    {
      "cell_type": "markdown",
      "metadata": {
        "lang": "en",
        "id": "SfnIalH3a0n0"
      },
      "source": [
        "### Betydelselösa ord\n",
        "\n",
        "Stop words är andra ord som inte är korta men som ändå inte har betydelse, dessa kan vara lite besvärligare att identifiera och ta bort. En möjlighet är att helt enkelt skapa en lista med sådana ord och sedan använda den listan för att filtrera ut orden ur ett corpus. Vi har ju redan tagit bort alla ord med färre bokstäver än 3, så sådana behöver vi inte lägga in i listan. \n",
        "\n",
        "Nedan är ett exempel på en lista med stoppord som är betydelselösa. \n"
      ]
    },
    {
      "cell_type": "code",
      "metadata": {
        "id": "tHa-BVhLa0n0"
      },
      "source": [
        "my_stop_words = [\"och\", \"det\", \"att\", \"i\", \"en\", \"jag\", \"hon\", \n",
        "                \"som\", \"han\", \"paa\", \"den\", \"med\", \"var\", \"sig\", \n",
        "                \"foer\", \"saa\", \"till\", \"aer\", \"men\", \"ett\", \n",
        "                \"om\", \"hade\", \"de\", \"av\", \"icke\", \"mig\", \"du\", \n",
        "                \"henne\", \"daa\", \"sin\", \"nu\", \"har\", \"inte\", \n",
        "                \"hans\", \"honom\", \"skulle\", \"hennes\", \"daer\", \n",
        "                \"min\", \"man\", \"ej\", \"vid\", \"kunde\", \"naagot\", \n",
        "                \"fraan\", \"ut\", \"naer\", \"efter\", \"upp\", \"vi\", \n",
        "                \"dem\", \"vara\", \"vad\", \"oever\", \"aen\", \"dig\", \n",
        "                \"kan\", \"sina\", \"haer\", \"ha\", \"mot\", \"alla\", \n",
        "                \"under\", \"naagon\", \"eller\", \"allt\", \"mycket\", \n",
        "                \"sedan\", \"ju\", \"denna\", \"sjaelv\", \"detta\", \n",
        "                \"aat\", \"utan\", \"varit\", \"hur\", \"ingen\", \"mitt\", \n",
        "                \"ni\", \"bli\", \"blev\", \"oss\", \"din\", \"dessa\", \n",
        "                \"naagra\", \"deras\", \"blir\", \"mina\", \"samma\", \n",
        "                \"vilken\", \"er\", \"saadan\", \"vaar\", \"blivit\", \n",
        "                \"dess\", \"inom\", \"mellan\", \"saadant\", \"varfoer\", \n",
        "                \"varje\", \"vilka\", \"ditt\", \"vem\", \"vilket\", \n",
        "                \"sitta\", \"saadana\", \"vart\", \"dina\", \"vars\", \n",
        "                \"vaart\", \"vaara\", \"ert\", \"era\", \"vilka\"]"
      ],
      "execution_count": null,
      "outputs": []
    },
    {
      "cell_type": "markdown",
      "metadata": {
        "lang": "en",
        "id": "H-HIp3SSa0n0"
      },
      "source": [
        "När vi skapat vår lista är det dags att skapa en funktion som tar bort dessa från ett dokument. Denna funktion är kodad i cellen nedan. (Igen strunta i lambda för tillfället.)"
      ]
    },
    {
      "cell_type": "code",
      "metadata": {
        "id": "uUriR2ZXa0n0"
      },
      "source": [
        "remove_stopwords = lambda x: ' '.join(y for y in x.split() if y not in my_stop_words)"
      ],
      "execution_count": null,
      "outputs": []
    },
    {
      "cell_type": "markdown",
      "metadata": {
        "id": "rU9ZhSgza0n0"
      },
      "source": [
        "Funktionen ovan tar alltså bort stoppord från ett dokument (alltså en tweet), för att ta bort stoppord från hela vårt corpus kan funktionen `.apply()`användas. \n",
        "\n",
        "**F22.** Skriv den kod som tar bort alla stoppord från `tweets_low_no_small` och skapar en ny variabel `tweets_low_no_small_stopwords` för corpuset utan stoppord."
      ]
    },
    {
      "cell_type": "code",
      "metadata": {
        "id": "Gzm2zfl3a0n0"
      },
      "source": [
        "tweets_low_no_small_stopwords = ...#din kod här"
      ],
      "execution_count": null,
      "outputs": []
    },
    {
      "cell_type": "code",
      "metadata": {
        "id": "WUhucDzga0n0",
        "colab": {
          "base_uri": "https://localhost:8080/",
          "height": 190
        },
        "outputId": "7db62649-b2e6-4702-d6b9-de0b6d6f8c27"
      },
      "source": [
        "top_words_low_no_small_stopwords = plot_top_words(tweets_low_no_small_stopwords, 50, 30)\n",
        "top_words_low_no_small_stopwords"
      ],
      "execution_count": null,
      "outputs": [
        {
          "output_type": "error",
          "ename": "NameError",
          "evalue": "ignored",
          "traceback": [
            "\u001b[0;31m---------------------------------------------------------------------------\u001b[0m",
            "\u001b[0;31mNameError\u001b[0m                                 Traceback (most recent call last)",
            "\u001b[0;32m<ipython-input-9-a85d85aa98fe>\u001b[0m in \u001b[0;36m<module>\u001b[0;34m()\u001b[0m\n\u001b[0;32m----> 1\u001b[0;31m \u001b[0mtop_words_low_no_small_stopwords\u001b[0m \u001b[0;34m=\u001b[0m \u001b[0mplot_top_words\u001b[0m\u001b[0;34m(\u001b[0m\u001b[0mtweets_low_no_small_stopwords\u001b[0m\u001b[0;34m,\u001b[0m \u001b[0;36m50\u001b[0m\u001b[0;34m,\u001b[0m \u001b[0;36m30\u001b[0m\u001b[0;34m)\u001b[0m\u001b[0;34m\u001b[0m\u001b[0;34m\u001b[0m\u001b[0m\n\u001b[0m\u001b[1;32m      2\u001b[0m \u001b[0mtop_words_low_no_small_stopwords\u001b[0m\u001b[0;34m\u001b[0m\u001b[0;34m\u001b[0m\u001b[0m\n",
            "\u001b[0;31mNameError\u001b[0m: name 'plot_top_words' is not defined"
          ]
        }
      ]
    },
    {
      "cell_type": "markdown",
      "metadata": {
        "id": "bh4Rjopka0n1"
      },
      "source": [
        "**F23.** Efter att stopporden tagits bort, hur många gånger måste ett ord förekomma i vårt corpus för att hamna i den nya listan enligt ovan? "
      ]
    },
    {
      "cell_type": "markdown",
      "metadata": {
        "lang": "en",
        "id": "p0ePGiT3a0n1"
      },
      "source": [
        "**F24.** Vad är skillnaderna mellan de frekvent förekommande orden i jämförelse med våra tidigare listor? Skriv den kod som jämför dessa tre listor `top_words_lowered`, `top_words_low_no_small` and `top_words_low_no_small_stopwords`, titta på de första 20 orden i listorna.\n"
      ]
    },
    {
      "cell_type": "markdown",
      "metadata": {
        "lang": "en",
        "id": "3SV6__XWa0n1"
      },
      "source": [
        "### Visualisering och rekommendation\n",
        "\n",
        "Dags att visualisera vårt resultat och övertyga vår klient om att vi hittat de bästa debattämnena för dem! Här gör vi det genom att skapa ett word cloud där de mest frekventa orden syns bäst. \n",
        "\n",
        "Nedanstående kod skapar ett ordmoln för `top_words_low_no_small_stopwords`"
      ]
    },
    {
      "cell_type": "code",
      "metadata": {
        "id": "LJft-4GNa0n1",
        "colab": {
          "base_uri": "https://localhost:8080/",
          "height": 244
        },
        "outputId": "b170c5a9-99dd-4f1c-d0a7-984867397ba6"
      },
      "source": [
        "from wordcloud import WordCloud\n",
        "import matplotlib.pyplot as plt\n",
        "wordcloud = WordCloud(max_font_size=40)\n",
        "wordcloud.fit_words(top_words_no_small_stopwords.to_dict())\n",
        "plt.figure()\n",
        "plt.imshow(wordcloud, interpolation=\"bilinear\")\n",
        "plt.axis(\"off\")\n",
        "plt.show()"
      ],
      "execution_count": null,
      "outputs": [
        {
          "output_type": "error",
          "ename": "NameError",
          "evalue": "ignored",
          "traceback": [
            "\u001b[0;31m---------------------------------------------------------------------------\u001b[0m",
            "\u001b[0;31mNameError\u001b[0m                                 Traceback (most recent call last)",
            "\u001b[0;32m<ipython-input-11-49174b1c0b9e>\u001b[0m in \u001b[0;36m<module>\u001b[0;34m()\u001b[0m\n\u001b[1;32m      2\u001b[0m \u001b[0;32mimport\u001b[0m \u001b[0mmatplotlib\u001b[0m\u001b[0;34m.\u001b[0m\u001b[0mpyplot\u001b[0m \u001b[0;32mas\u001b[0m \u001b[0mplt\u001b[0m\u001b[0;34m\u001b[0m\u001b[0;34m\u001b[0m\u001b[0m\n\u001b[1;32m      3\u001b[0m \u001b[0mwordcloud\u001b[0m \u001b[0;34m=\u001b[0m \u001b[0mWordCloud\u001b[0m\u001b[0;34m(\u001b[0m\u001b[0mmax_font_size\u001b[0m\u001b[0;34m=\u001b[0m\u001b[0;36m20\u001b[0m\u001b[0;34m)\u001b[0m\u001b[0;34m\u001b[0m\u001b[0;34m\u001b[0m\u001b[0m\n\u001b[0;32m----> 4\u001b[0;31m \u001b[0mwordcloud\u001b[0m\u001b[0;34m.\u001b[0m\u001b[0mfit_words\u001b[0m\u001b[0;34m(\u001b[0m\u001b[0mtop_words_no_small_stopwords\u001b[0m\u001b[0;34m.\u001b[0m\u001b[0mto_dict\u001b[0m\u001b[0;34m(\u001b[0m\u001b[0;34m)\u001b[0m\u001b[0;34m)\u001b[0m\u001b[0;34m\u001b[0m\u001b[0;34m\u001b[0m\u001b[0m\n\u001b[0m\u001b[1;32m      5\u001b[0m \u001b[0mplt\u001b[0m\u001b[0;34m.\u001b[0m\u001b[0mfigure\u001b[0m\u001b[0;34m(\u001b[0m\u001b[0;34m)\u001b[0m\u001b[0;34m\u001b[0m\u001b[0;34m\u001b[0m\u001b[0m\n\u001b[1;32m      6\u001b[0m \u001b[0mplt\u001b[0m\u001b[0;34m.\u001b[0m\u001b[0mimshow\u001b[0m\u001b[0;34m(\u001b[0m\u001b[0mwordcloud\u001b[0m\u001b[0;34m,\u001b[0m \u001b[0minterpolation\u001b[0m\u001b[0;34m=\u001b[0m\u001b[0;34m\"bilinear\"\u001b[0m\u001b[0;34m)\u001b[0m\u001b[0;34m\u001b[0m\u001b[0;34m\u001b[0m\u001b[0m\n",
            "\u001b[0;31mNameError\u001b[0m: name 'top_words_no_small_stopwords' is not defined"
          ]
        }
      ]
    },
    {
      "cell_type": "markdown",
      "metadata": {
        "id": "tGXSSDvJa0n1"
      },
      "source": [
        "**F25** Ändra i tidigare kod hur många gånger ett ord minst måste finnas för att det ska inkluderas i ordmolnet. Vad förändras?"
      ]
    },
    {
      "cell_type": "markdown",
      "metadata": {
        "lang": "en",
        "id": "-cCmk3eMa0n1"
      },
      "source": [
        "**F26** När du tittar på ordmolnet, är det fler ord som borde vara stoppord? Ange några stycken och förklara varför de bör tas bort."
      ]
    },
    {
      "cell_type": "markdown",
      "metadata": {
        "lang": "en",
        "id": "DZj0JRKNa0n1"
      },
      "source": [
        "**F27.** Vilket tema rekommenderar ni att publicisten ska ha som debattämne? Förklara svaret. "
      ]
    },
    {
      "cell_type": "markdown",
      "metadata": {
        "lang": "en",
        "id": "jJgzGBhFa0n1"
      },
      "source": [
        "**F28.** Ni har nu arbetat med textdata, hur är det annorlunda när det gäller pre-processing jämfört med annan typ av data som är av mer numerisk eller kategorisk karaktär?"
      ]
    },
    {
      "cell_type": "markdown",
      "metadata": {
        "id": "HjNzexRxa0n1"
      },
      "source": [
        "---\n",
        "*När ni besvarat samtliga frågor och all er kod fungerar i enlighet med instruktioner, glöm då inte att lämna in en länk till ert repositorie med den färdiga lösningen körd i era notebooks, senast det datum som är angivet. Infoga också en knapp till Colaboratory om ni använt er av denna miljö*. \n",
        "\n",
        "**Glöm inte heller att versionshantera i GitHub så att jag kan följa ert arbete!** \n",
        "\n",
        "Lycka till!"
      ]
    },
    {
      "cell_type": "code",
      "metadata": {
        "id": "Xvs1b76Ma0n1"
      },
      "source": [
        ""
      ],
      "execution_count": null,
      "outputs": []
    }
  ]
}